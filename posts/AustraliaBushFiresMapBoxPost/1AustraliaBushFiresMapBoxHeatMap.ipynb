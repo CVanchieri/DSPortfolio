{
  "nbformat": 4,
  "nbformat_minor": 0,
  "metadata": {
    "colab": {
      "name": "AustraliaBushFires.ipynb",
      "provenance": [],
      "collapsed_sections": []
    },
    "kernelspec": {
      "name": "python3",
      "display_name": "Python 3"
    },
    "accelerator": "GPU"
  },
  "cells": [
    {
      "cell_type": "markdown",
      "metadata": {
        "id": "VB5-mrsYsxdN",
        "colab_type": "text"
      },
      "source": [
        "## 2019 Australia Bush Fires.\n",
        "[Data Source](https://www.kaggle.com/nagarajbhat/australian-bush-fire-satellite-data-nasa)"
      ]
    },
    {
      "cell_type": "code",
      "metadata": {
        "id": "EDosyCLz8mlA",
        "colab_type": "code",
        "colab": {}
      },
      "source": [
        "# necessary imports.\n",
        "import numpy as np\n",
        "import pandas as pd\n",
        "import plotly.graph_objects as go"
      ],
      "execution_count": 0,
      "outputs": []
    },
    {
      "cell_type": "code",
      "metadata": {
        "id": "kGABkbR2CuvE",
        "colab_type": "code",
        "outputId": "b1751a1a-4f9b-4775-b67e-5c1a78f13906",
        "colab": {
          "base_uri": "https://localhost:8080/",
          "height": 271
        }
      },
      "source": [
        "# read in the csv file.\n",
        "fires = pd.read_csv(\"https://raw.githubusercontent.com/CVanchieri/DataSets/master/Labs/AustraliaBushFires/australiabushfires.csv\")\n",
        "print(fires.shape)\n",
        "fires.head()"
      ],
      "execution_count": 0,
      "outputs": [
        {
          "output_type": "stream",
          "text": [
            "(127048, 16)\n"
          ],
          "name": "stdout"
        },
        {
          "output_type": "stream",
          "text": [
            "/usr/local/lib/python3.6/dist-packages/IPython/core/interactiveshell.py:2718: DtypeWarning:\n",
            "\n",
            "Columns (11) have mixed types.Specify dtype option on import or set low_memory=False.\n",
            "\n"
          ],
          "name": "stderr"
        },
        {
          "output_type": "execute_result",
          "data": {
            "text/html": [
              "<div>\n",
              "<style scoped>\n",
              "    .dataframe tbody tr th:only-of-type {\n",
              "        vertical-align: middle;\n",
              "    }\n",
              "\n",
              "    .dataframe tbody tr th {\n",
              "        vertical-align: top;\n",
              "    }\n",
              "\n",
              "    .dataframe thead th {\n",
              "        text-align: right;\n",
              "    }\n",
              "</style>\n",
              "<table border=\"1\" class=\"dataframe\">\n",
              "  <thead>\n",
              "    <tr style=\"text-align: right;\">\n",
              "      <th></th>\n",
              "      <th>Unnamed: 0</th>\n",
              "      <th>latitude</th>\n",
              "      <th>longitude</th>\n",
              "      <th>brightness</th>\n",
              "      <th>scan</th>\n",
              "      <th>track</th>\n",
              "      <th>acq_date</th>\n",
              "      <th>acq_time</th>\n",
              "      <th>satellite</th>\n",
              "      <th>instrument</th>\n",
              "      <th>confidence</th>\n",
              "      <th>version</th>\n",
              "      <th>bright_t31</th>\n",
              "      <th>frp</th>\n",
              "      <th>daynight</th>\n",
              "      <th>type</th>\n",
              "    </tr>\n",
              "  </thead>\n",
              "  <tbody>\n",
              "    <tr>\n",
              "      <th>0</th>\n",
              "      <td>0</td>\n",
              "      <td>-12.3168</td>\n",
              "      <td>142.0542</td>\n",
              "      <td>311.4</td>\n",
              "      <td>4.2</td>\n",
              "      <td>1.9</td>\n",
              "      <td>2019-09-01</td>\n",
              "      <td>14</td>\n",
              "      <td>Terra</td>\n",
              "      <td>MODIS</td>\n",
              "      <td>23</td>\n",
              "      <td>6.3</td>\n",
              "      <td>297.0</td>\n",
              "      <td>40.2</td>\n",
              "      <td>D</td>\n",
              "      <td>0.0</td>\n",
              "    </tr>\n",
              "    <tr>\n",
              "      <th>1</th>\n",
              "      <td>1</td>\n",
              "      <td>-12.3407</td>\n",
              "      <td>142.0894</td>\n",
              "      <td>310.2</td>\n",
              "      <td>4.2</td>\n",
              "      <td>1.9</td>\n",
              "      <td>2019-09-01</td>\n",
              "      <td>14</td>\n",
              "      <td>Terra</td>\n",
              "      <td>MODIS</td>\n",
              "      <td>18</td>\n",
              "      <td>6.3</td>\n",
              "      <td>296.9</td>\n",
              "      <td>33.5</td>\n",
              "      <td>D</td>\n",
              "      <td>0.0</td>\n",
              "    </tr>\n",
              "    <tr>\n",
              "      <th>2</th>\n",
              "      <td>2</td>\n",
              "      <td>-12.3266</td>\n",
              "      <td>142.0863</td>\n",
              "      <td>310.1</td>\n",
              "      <td>4.2</td>\n",
              "      <td>1.9</td>\n",
              "      <td>2019-09-01</td>\n",
              "      <td>14</td>\n",
              "      <td>Terra</td>\n",
              "      <td>MODIS</td>\n",
              "      <td>27</td>\n",
              "      <td>6.3</td>\n",
              "      <td>296.7</td>\n",
              "      <td>36.0</td>\n",
              "      <td>D</td>\n",
              "      <td>0.0</td>\n",
              "    </tr>\n",
              "    <tr>\n",
              "      <th>3</th>\n",
              "      <td>3</td>\n",
              "      <td>-12.6649</td>\n",
              "      <td>142.6015</td>\n",
              "      <td>310.4</td>\n",
              "      <td>3.8</td>\n",
              "      <td>1.8</td>\n",
              "      <td>2019-09-01</td>\n",
              "      <td>14</td>\n",
              "      <td>Terra</td>\n",
              "      <td>MODIS</td>\n",
              "      <td>35</td>\n",
              "      <td>6.3</td>\n",
              "      <td>298.1</td>\n",
              "      <td>28.2</td>\n",
              "      <td>D</td>\n",
              "      <td>0.0</td>\n",
              "    </tr>\n",
              "    <tr>\n",
              "      <th>4</th>\n",
              "      <td>4</td>\n",
              "      <td>-12.8706</td>\n",
              "      <td>142.7663</td>\n",
              "      <td>314.3</td>\n",
              "      <td>3.6</td>\n",
              "      <td>1.8</td>\n",
              "      <td>2019-09-01</td>\n",
              "      <td>14</td>\n",
              "      <td>Terra</td>\n",
              "      <td>MODIS</td>\n",
              "      <td>56</td>\n",
              "      <td>6.3</td>\n",
              "      <td>299.4</td>\n",
              "      <td>43.5</td>\n",
              "      <td>D</td>\n",
              "      <td>0.0</td>\n",
              "    </tr>\n",
              "  </tbody>\n",
              "</table>\n",
              "</div>"
            ],
            "text/plain": [
              "   Unnamed: 0  latitude  longitude  brightness  ...  bright_t31   frp daynight  type\n",
              "0           0  -12.3168   142.0542       311.4  ...       297.0  40.2        D   0.0\n",
              "1           1  -12.3407   142.0894       310.2  ...       296.9  33.5        D   0.0\n",
              "2           2  -12.3266   142.0863       310.1  ...       296.7  36.0        D   0.0\n",
              "3           3  -12.6649   142.6015       310.4  ...       298.1  28.2        D   0.0\n",
              "4           4  -12.8706   142.7663       314.3  ...       299.4  43.5        D   0.0\n",
              "\n",
              "[5 rows x 16 columns]"
            ]
          },
          "metadata": {
            "tags": []
          },
          "execution_count": 18
        }
      ]
    },
    {
      "cell_type": "code",
      "metadata": {
        "id": "vR_RXVgi5Feo",
        "colab_type": "code",
        "colab": {}
      },
      "source": [
        "# set the time series and data for frames data.\n",
        "times = fires.groupby(['acq_date'])['acq_date'].count().index.tolist()\n",
        "frames_data = [fires.loc[fires['acq_date'] == t] for t in times]"
      ],
      "execution_count": 0,
      "outputs": []
    },
    {
      "cell_type": "code",
      "metadata": {
        "id": "qjvWx3y75GCQ",
        "colab_type": "code",
        "colab": {}
      },
      "source": [
        "# set the frames for the density mapbox.\n",
        "frames = [go.Frame(data=[go.Densitymapbox(lat=f['latitude'], lon=f['longitude'], z=f['brightness'], radius=10)], name=str(f.iloc[0]['acq_date'])) for f in frames_data]"
      ],
      "execution_count": 0,
      "outputs": []
    },
    {
      "cell_type": "code",
      "metadata": {
        "id": "27-Xvsgo5Mpa",
        "colab_type": "code",
        "colab": {}
      },
      "source": [
        "# create how the map works, buttons, sliders.\n",
        "buttons=[\n",
        "         dict(label=\"Play\",method=\"animate\",args=[None, {'fromcurrent':True, \"transition\": {\"duration\": 20, \"easing\": \"quadratic-in-out\"}}]),\n",
        "         dict(label=\"Pause\",method=\"animate\",args=[[None], {\"frame\": {\"duration\": 0, \"redraw\": False},\"mode\": \"immediate\", \"transition\": {\"duration\": 0}}])\n",
        "]\n",
        "\n",
        "\n",
        "sliders_dict = {\n",
        "    'active':0,\n",
        "    'currentvalue': dict(font=dict(size=15), prefix='Time: ', visible=True),\n",
        "    \"transition\": {\"duration\": 300, \"easing\": \"cubic-in-out\"},\n",
        "    'x': 0,\n",
        "    'steps': []\n",
        "}\n",
        "\n",
        "for i,t in enumerate(times):\n",
        "    slider_step = {\"args\": [\n",
        "                        [t],\n",
        "                        {\"frame\": {\"duration\": 300, \"redraw\": False},\n",
        "                         #\"mode\": \"immediate\",\n",
        "                         \"transition\": {\"duration\": 30, \"easing\": \"quadratic-in-out\"}}\n",
        "                    ],\n",
        "            \"label\": t,\n",
        "            \"method\": \"animate\",\n",
        "            \"value\": t\n",
        "    }\n",
        "    sliders_dict['steps'].append(slider_step)"
      ],
      "execution_count": 0,
      "outputs": []
    },
    {
      "cell_type": "code",
      "metadata": {
        "id": "CkU8wBhlzWrD",
        "colab_type": "code",
        "colab": {}
      },
      "source": [
        "# set the mapbox style and token.\n",
        "''' style url '''\n",
        "mapbox_style = \"style here\"\n",
        "''' access token '''\n",
        "mapbox_token = \"token here\""
      ],
      "execution_count": 0,
      "outputs": []
    },
    {
      "cell_type": "code",
      "metadata": {
        "id": "rFspkwa45RUV",
        "colab_type": "code",
        "outputId": "b2355a6f-4bf7-4cd3-a8cb-aeb5e69572a9",
        "colab": {
          "base_uri": "https://localhost:8080/",
          "height": 1000
        }
      },
      "source": [
        "# set the figure layout of the graph.\n",
        "fig = go.Figure(data = [go.Densitymapbox(lat=fires['latitude'], lon=fires['longitude'], z=fires['brightness'], radius=5, colorscale='Hot', zmax=300, zmin=0)],\n",
        "               layout=go.Layout(updatemenus=[dict(type=\"buttons\", buttons=buttons,showactive=True)] ), \n",
        "               frames=frames\n",
        ")\n",
        "fig.update_layout(mapbox_style=mapbox_style, \n",
        "                  mapbox_accesstoken=mapbox_style,\n",
        "                  mapbox_center_lon=135,\n",
        "                  mapbox_center_lat=-25.34,\n",
        "                  mapbox_zoom=3.5)\n",
        "fig.update_layout(sliders=[sliders_dict],\n",
        "                 title='Australia bush fires 09/01/2019 - 01/30/2020')\n",
        "fig.update_layout(height=1000)\n",
        "fig.show()"
      ],
      "execution_count": 0,
      "outputs": []
    },
    {
      "cell_type": "markdown",
      "metadata": {
        "id": "vc6BfN39ZgFM",
        "colab_type": "text"
      },
      "source": [
        "![BushFires](https://cvanchieri.github.io/img/2019AustraliaBushFiresPost/2.png)"
      ]
    },
    {
      "cell_type": "code",
      "metadata": {
        "id": "9aKYOSI6Zotm",
        "colab_type": "code",
        "colab": {}
      },
      "source": [
        ""
      ],
      "execution_count": 0,
      "outputs": []
    }
  ]
}
   
