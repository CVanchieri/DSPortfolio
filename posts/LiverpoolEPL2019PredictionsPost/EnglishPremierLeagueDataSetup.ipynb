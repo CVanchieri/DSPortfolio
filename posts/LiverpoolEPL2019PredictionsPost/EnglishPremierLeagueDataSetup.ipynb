{
  "nbformat": 4,
  "nbformat_minor": 0,
  "metadata": {
    "colab": {
      "name": "EnglishPremierLeagueDataSetup.ipynb",
      "provenance": [],
      "collapsed_sections": []
    },
    "kernelspec": {
      "name": "python3",
      "display_name": "Python 3"
    }
  },
  "cells": [
    {
      "cell_type": "markdown",
      "metadata": {
        "id": "gzVo86OOHPE_"
      },
      "source": [
        "## Load the data files for English Premier League seasons"
      ]
    },
    {
      "cell_type": "code",
      "metadata": {
        "id": "ErTkgxsaHWxe"
      },
      "source": [
        "import pandas as pd\n",
        " ### import all the data files ### \n",
        "EPL20_21 = pd.read_csv('https://raw.githubusercontent.com/CVanchieri/LSDS-DataSets/master/EnglishPremierLeagueData/EnglishPremierLeague_20-21.csv')\n",
        "EPL19_20 = pd.read_csv('https://raw.githubusercontent.com/CVanchieri/LSDS-DataSets/master/EnglishPremierLeagueData/EnglishPremierLeague_19-20.csv')\n",
        "EPL18_19 = pd.read_csv('https://raw.githubusercontent.com/CVanchieri/LSDS-DataSets/master/EnglishPremierLeagueData/EnglishPremierLeague_18-19.csv')\n",
        "EPL17_18 = pd.read_csv('https://raw.githubusercontent.com/CVanchieri/LSDS-DataSets/master/EnglishPremierLeagueData/EnglishPremierLeague_17-18.csv')\n",
        "EPL16_17 = pd.read_csv('https://raw.githubusercontent.com/CVanchieri/LSDS-DataSets/master/EnglishPremierLeagueData/EnglishPremierLeague_16-17.csv')\n",
        "EPL15_16 = pd.read_csv('https://raw.githubusercontent.com/CVanchieri/LSDS-DataSets/master/EnglishPremierLeagueData/EnglishPremierLeague_15-16.csv')\n",
        "EPL14_15 = pd.read_csv('https://raw.githubusercontent.com/CVanchieri/LSDS-DataSets/master/EnglishPremierLeagueData/EnglishPremierLeague_14-15.csv')\n",
        "EPL13_14 = pd.read_csv('https://raw.githubusercontent.com/CVanchieri/LSDS-DataSets/master/EnglishPremierLeagueData/EnglishPremierLeague_13-14.csv')\n",
        "EPL12_13 = pd.read_csv('https://raw.githubusercontent.com/CVanchieri/LSDS-DataSets/master/EnglishPremierLeagueData/EnglishPremierLeague_12-13.csv')\n",
        "EPL11_12 = pd.read_csv('https://raw.githubusercontent.com/CVanchieri/LSDS-DataSets/master/EnglishPremierLeagueData/EnglishPremierLeague_11-12.csv')\n",
        "EPL10_11 = pd.read_csv('https://raw.githubusercontent.com/CVanchieri/LSDS-DataSets/master/EnglishPremierLeagueData/EnglishPremierLeague_10-11.csv')\n",
        "EPL09_10 = pd.read_csv('https://raw.githubusercontent.com/CVanchieri/LSDS-DataSets/master/EnglishPremierLeagueData/EnglishPremierLeague_09-10.csv')\n",
        "EPL08_09 = pd.read_csv('https://raw.githubusercontent.com/CVanchieri/LSDS-DataSets/master/EnglishPremierLeagueData/EnglishPremierLeague_08-09.csv')\n",
        "EPL07_08 = pd.read_csv('https://raw.githubusercontent.com/CVanchieri/LSDS-DataSets/master/EnglishPremierLeagueData/EnglishPremierLeague_07-08.csv')\n",
        "EPL06_07 = pd.read_csv('https://raw.githubusercontent.com/CVanchieri/LSDS-DataSets/master/EnglishPremierLeagueData/EnglishPremierLeague_06-07.csv')\n",
        "EPL05_06 = pd.read_csv('https://raw.githubusercontent.com/CVanchieri/LSDS-DataSets/master/EnglishPremierLeagueData/EnglishPremierLeague_05-06.csv')\n",
        "EPL04_05 = pd.read_csv('https://raw.githubusercontent.com/CVanchieri/LSDS-DataSets/master/EnglishPremierLeagueData/EnglishPremierLeague_04-05.csv')\n",
        "EPL03_04 = pd.read_csv('https://raw.githubusercontent.com/CVanchieri/LSDS-DataSets/master/EnglishPremierLeagueData/EnglishPremierLeague_03-04.csv')\n",
        "EPL02_03 = pd.read_csv('https://raw.githubusercontent.com/CVanchieri/LSDS-DataSets/master/EnglishPremierLeagueData/EnglishPremierLeague_02-03.csv')\n",
        "EPL01_02 = pd.read_csv('https://raw.githubusercontent.com/CVanchieri/LSDS-DataSets/master/EnglishPremierLeagueData/EnglishPremierLeague_01-02.csv')\n",
        "EPL00_01 = pd.read_csv('https://raw.githubusercontent.com/CVanchieri/LSDS-DataSets/master/EnglishPremierLeagueData/EnglishPremierLeague_00-01.csv')\n",
        "EPL99_00 = pd.read_csv('https://raw.githubusercontent.com/CVanchieri/LSDS-DataSets/master/EnglishPremierLeagueData/EnglishPremierLeague_99-00.csv')\n",
        "EPL98_99 = pd.read_csv('https://raw.githubusercontent.com/CVanchieri/LSDS-DataSets/master/EnglishPremierLeagueData/EnglishPremierLeague_98-99.csv')\n",
        "EPL97_98 = pd.read_csv('https://raw.githubusercontent.com/CVanchieri/LSDS-DataSets/master/EnglishPremierLeagueData/EnglishPremierLeague_97-98.csv')\n",
        "EPL96_97 = pd.read_csv('https://raw.githubusercontent.com/CVanchieri/LSDS-DataSets/master/EnglishPremierLeagueData/EnglishPremierLeague_96-97.csv')\n",
        "EPL95_96 = pd.read_csv('https://raw.githubusercontent.com/CVanchieri/LSDS-DataSets/master/EnglishPremierLeagueData/EnglishPremierLeague_95-96.csv')\n",
        "EPL94_95 = pd.read_csv('https://raw.githubusercontent.com/CVanchieri/LSDS-DataSets/master/EnglishPremierLeagueData/EnglishPremierLeague_94-95.csv')\n",
        "EPL93_94 = pd.read_csv('https://raw.githubusercontent.com/CVanchieri/LSDS-DataSets/master/EnglishPremierLeagueData/EnglishPremierLeague_93-94.csv')"
      ],
      "execution_count": 23,
      "outputs": []
    },
    {
      "cell_type": "code",
      "metadata": {
        "id": "EJmxNFLBHbt8",
        "colab": {
          "base_uri": "https://localhost:8080/",
          "height": 234
        },
        "outputId": "0e4098ee-fe47-42b4-b7a5-933c12b966fa"
      },
      "source": [
        "### merge all the data sets ###\n",
        "EPL = pd.concat([EPL93_94, EPL94_95, EPL95_96, EPL96_97, EPL97_98, \n",
        "                 EPL98_99, EPL99_00, EPL00_01, EPL01_02, EPL02_03, \n",
        "                 EPL03_04, EPL04_05, EPL05_06, EPL06_07, EPL07_08, \n",
        "                 EPL08_09, EPL09_10, EPL10_11, EPL11_12, EPL12_13, \n",
        "                 EPL13_14, EPL14_15, EPL15_16, EPL16_17, EPL17_18, \n",
        "                 EPL18_19, EPL19_20, EPL20_21], sort=False, ignore_index=True)\n",
        "### select columns wanted ###\n",
        "columns = [\"Div\", \"Date\", \"HomeTeam\", \"AwayTeam\", \"FTHG\", \"FTAG\", \n",
        "          \"HTHG\", \"HTAG\", \"HTR\", \"HS\", \"AS\", \"HST\", \"AST\", \n",
        "          \"HC\", \"AC\", \"HF\", \"AF\", \"HY\", \"AY\", \"HR\", \"AR\", \"FTR\"] \n",
        "EPL = EPL[columns]\n",
        "EPL = EPL.rename(columns=({'Date': 'GameDate'})) # rename \n",
        "EPL = EPL.drop_duplicates() # drop duplicates\n",
        "EPL['GameDate'] = pd.to_datetime(EPL['GameDate']).dt.date # using datetime\n",
        "print('data frame shape:', EPL.shape) # show the shape\n",
        "print('--- data frame ---')\n",
        "EPL.tail()"
      ],
      "execution_count": 26,
      "outputs": [
        {
          "output_type": "stream",
          "text": [
            "data frame shape: (10332, 22)\n",
            "--- data frame ---\n"
          ],
          "name": "stdout"
        },
        {
          "output_type": "execute_result",
          "data": {
            "text/html": [
              "<div>\n",
              "<style scoped>\n",
              "    .dataframe tbody tr th:only-of-type {\n",
              "        vertical-align: middle;\n",
              "    }\n",
              "\n",
              "    .dataframe tbody tr th {\n",
              "        vertical-align: top;\n",
              "    }\n",
              "\n",
              "    .dataframe thead th {\n",
              "        text-align: right;\n",
              "    }\n",
              "</style>\n",
              "<table border=\"1\" class=\"dataframe\">\n",
              "  <thead>\n",
              "    <tr style=\"text-align: right;\">\n",
              "      <th></th>\n",
              "      <th>Div</th>\n",
              "      <th>GameDate</th>\n",
              "      <th>HomeTeam</th>\n",
              "      <th>AwayTeam</th>\n",
              "      <th>FTHG</th>\n",
              "      <th>FTAG</th>\n",
              "      <th>HTHG</th>\n",
              "      <th>HTAG</th>\n",
              "      <th>HTR</th>\n",
              "      <th>HS</th>\n",
              "      <th>AS</th>\n",
              "      <th>HST</th>\n",
              "      <th>AST</th>\n",
              "      <th>HC</th>\n",
              "      <th>AC</th>\n",
              "      <th>HF</th>\n",
              "      <th>AF</th>\n",
              "      <th>HY</th>\n",
              "      <th>AY</th>\n",
              "      <th>HR</th>\n",
              "      <th>AR</th>\n",
              "      <th>FTR</th>\n",
              "    </tr>\n",
              "  </thead>\n",
              "  <tbody>\n",
              "    <tr>\n",
              "      <th>10587</th>\n",
              "      <td>NaN</td>\n",
              "      <td>2021-11-05</td>\n",
              "      <td>Crystal Palace</td>\n",
              "      <td>Aston Villa</td>\n",
              "      <td>NaN</td>\n",
              "      <td>NaN</td>\n",
              "      <td>NaN</td>\n",
              "      <td>NaN</td>\n",
              "      <td>NaN</td>\n",
              "      <td>NaN</td>\n",
              "      <td>NaN</td>\n",
              "      <td>NaN</td>\n",
              "      <td>NaN</td>\n",
              "      <td>NaN</td>\n",
              "      <td>NaN</td>\n",
              "      <td>NaN</td>\n",
              "      <td>NaN</td>\n",
              "      <td>NaN</td>\n",
              "      <td>NaN</td>\n",
              "      <td>NaN</td>\n",
              "      <td>NaN</td>\n",
              "      <td>NaN</td>\n",
              "    </tr>\n",
              "    <tr>\n",
              "      <th>10588</th>\n",
              "      <td>NaN</td>\n",
              "      <td>2021-12-05</td>\n",
              "      <td>Chelsea</td>\n",
              "      <td>Arsenal</td>\n",
              "      <td>NaN</td>\n",
              "      <td>NaN</td>\n",
              "      <td>NaN</td>\n",
              "      <td>NaN</td>\n",
              "      <td>NaN</td>\n",
              "      <td>NaN</td>\n",
              "      <td>NaN</td>\n",
              "      <td>NaN</td>\n",
              "      <td>NaN</td>\n",
              "      <td>NaN</td>\n",
              "      <td>NaN</td>\n",
              "      <td>NaN</td>\n",
              "      <td>NaN</td>\n",
              "      <td>NaN</td>\n",
              "      <td>NaN</td>\n",
              "      <td>NaN</td>\n",
              "      <td>NaN</td>\n",
              "      <td>NaN</td>\n",
              "    </tr>\n",
              "    <tr>\n",
              "      <th>10589</th>\n",
              "      <td>NaN</td>\n",
              "      <td>2021-12-05</td>\n",
              "      <td>Newcastle</td>\n",
              "      <td>Man City</td>\n",
              "      <td>NaN</td>\n",
              "      <td>NaN</td>\n",
              "      <td>NaN</td>\n",
              "      <td>NaN</td>\n",
              "      <td>NaN</td>\n",
              "      <td>NaN</td>\n",
              "      <td>NaN</td>\n",
              "      <td>NaN</td>\n",
              "      <td>NaN</td>\n",
              "      <td>NaN</td>\n",
              "      <td>NaN</td>\n",
              "      <td>NaN</td>\n",
              "      <td>NaN</td>\n",
              "      <td>NaN</td>\n",
              "      <td>NaN</td>\n",
              "      <td>NaN</td>\n",
              "      <td>NaN</td>\n",
              "      <td>NaN</td>\n",
              "    </tr>\n",
              "    <tr>\n",
              "      <th>10590</th>\n",
              "      <td>NaN</td>\n",
              "      <td>2021-12-05</td>\n",
              "      <td>Southampton</td>\n",
              "      <td>Fulham</td>\n",
              "      <td>NaN</td>\n",
              "      <td>NaN</td>\n",
              "      <td>NaN</td>\n",
              "      <td>NaN</td>\n",
              "      <td>NaN</td>\n",
              "      <td>NaN</td>\n",
              "      <td>NaN</td>\n",
              "      <td>NaN</td>\n",
              "      <td>NaN</td>\n",
              "      <td>NaN</td>\n",
              "      <td>NaN</td>\n",
              "      <td>NaN</td>\n",
              "      <td>NaN</td>\n",
              "      <td>NaN</td>\n",
              "      <td>NaN</td>\n",
              "      <td>NaN</td>\n",
              "      <td>NaN</td>\n",
              "      <td>NaN</td>\n",
              "    </tr>\n",
              "    <tr>\n",
              "      <th>10591</th>\n",
              "      <td>NaN</td>\n",
              "      <td>2021-12-05</td>\n",
              "      <td>Spurs</td>\n",
              "      <td>Wolves</td>\n",
              "      <td>NaN</td>\n",
              "      <td>NaN</td>\n",
              "      <td>NaN</td>\n",
              "      <td>NaN</td>\n",
              "      <td>NaN</td>\n",
              "      <td>NaN</td>\n",
              "      <td>NaN</td>\n",
              "      <td>NaN</td>\n",
              "      <td>NaN</td>\n",
              "      <td>NaN</td>\n",
              "      <td>NaN</td>\n",
              "      <td>NaN</td>\n",
              "      <td>NaN</td>\n",
              "      <td>NaN</td>\n",
              "      <td>NaN</td>\n",
              "      <td>NaN</td>\n",
              "      <td>NaN</td>\n",
              "      <td>NaN</td>\n",
              "    </tr>\n",
              "  </tbody>\n",
              "</table>\n",
              "</div>"
            ],
            "text/plain": [
              "       Div    GameDate        HomeTeam     AwayTeam  FTHG  ...  HY  AY  HR  AR  FTR\n",
              "10587  NaN  2021-11-05  Crystal Palace  Aston Villa   NaN  ... NaN NaN NaN NaN  NaN\n",
              "10588  NaN  2021-12-05         Chelsea      Arsenal   NaN  ... NaN NaN NaN NaN  NaN\n",
              "10589  NaN  2021-12-05       Newcastle     Man City   NaN  ... NaN NaN NaN NaN  NaN\n",
              "10590  NaN  2021-12-05     Southampton       Fulham   NaN  ... NaN NaN NaN NaN  NaN\n",
              "10591  NaN  2021-12-05           Spurs       Wolves   NaN  ... NaN NaN NaN NaN  NaN\n",
              "\n",
              "[5 rows x 22 columns]"
            ]
          },
          "metadata": {
            "tags": []
          },
          "execution_count": 26
        }
      ]
    },
    {
      "cell_type": "code",
      "metadata": {
        "id": "X4aaKqvQKjpr",
        "colab": {
          "base_uri": "https://localhost:8080/",
          "height": 32
        },
        "outputId": "b479c369-18f1-4263-ead2-5acbde9180e9"
      },
      "source": [
        "# download the data set.\n",
        "from google.colab import files \n",
        "# save a copy of the data set.\n",
        "EPL.to_csv('EPL_data.csv', index=False)\n",
        "files.download('EPL_data.csv')"
      ],
      "execution_count": 28,
      "outputs": [
        {
          "output_type": "display_data",
          "data": {
            "application/javascript": [
              "\n",
              "    async function download(id, filename, size) {\n",
              "      if (!google.colab.kernel.accessAllowed) {\n",
              "        return;\n",
              "      }\n",
              "      const div = document.createElement('div');\n",
              "      const label = document.createElement('label');\n",
              "      label.textContent = `Downloading \"${filename}\": `;\n",
              "      div.appendChild(label);\n",
              "      const progress = document.createElement('progress');\n",
              "      progress.max = size;\n",
              "      div.appendChild(progress);\n",
              "      document.body.appendChild(div);\n",
              "\n",
              "      const buffers = [];\n",
              "      let downloaded = 0;\n",
              "\n",
              "      const channel = await google.colab.kernel.comms.open(id);\n",
              "      // Send a message to notify the kernel that we're ready.\n",
              "      channel.send({})\n",
              "\n",
              "      for await (const message of channel.messages) {\n",
              "        // Send a message to notify the kernel that we're ready.\n",
              "        channel.send({})\n",
              "        if (message.buffers) {\n",
              "          for (const buffer of message.buffers) {\n",
              "            buffers.push(buffer);\n",
              "            downloaded += buffer.byteLength;\n",
              "            progress.value = downloaded;\n",
              "          }\n",
              "        }\n",
              "      }\n",
              "      const blob = new Blob(buffers, {type: 'application/binary'});\n",
              "      const a = document.createElement('a');\n",
              "      a.href = window.URL.createObjectURL(blob);\n",
              "      a.download = filename;\n",
              "      div.appendChild(a);\n",
              "      a.click();\n",
              "      div.remove();\n",
              "    }\n",
              "  "
            ],
            "text/plain": [
              "<IPython.core.display.Javascript object>"
            ]
          },
          "metadata": {
            "tags": []
          }
        },
        {
          "output_type": "display_data",
          "data": {
            "application/javascript": [
              "download(\"download_31ff31c4-6f2e-4fcb-b529-55411b2b76cb\", \"EPL_data.csv\", 952770)"
            ],
            "text/plain": [
              "<IPython.core.display.Javascript object>"
            ]
          },
          "metadata": {
            "tags": []
          }
        }
      ]
    }
  ]
}