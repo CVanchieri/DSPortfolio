{
  "nbformat": 4,
  "nbformat_minor": 0,
  "metadata": {
    "colab": {
      "name": "COVID19DataAPI_DataVis5_CV.ipynb",
      "provenance": [],
      "collapsed_sections": []
    },
    "kernelspec": {
      "name": "python3",
      "display_name": "Python 3"
    }
  },
  "cells": [
    {
      "cell_type": "markdown",
      "metadata": {
        "id": "UWQY4dOFuwEC",
        "colab_type": "text"
      },
      "source": [
        "# COVID-19 Data (API).\n",
        "### COVID-19 World Data.\n",
        "[site](https://covid19api.com/) | [API info](https://documenter.getpostman.com/view/10808728/SzS8rjbc?version=latest)\n",
        "\n"
      ]
    },
    {
      "cell_type": "code",
      "metadata": {
        "id": "oZm6OLzp5-Hk",
        "colab_type": "code",
        "colab": {}
      },
      "source": [
        "# necessary imports for notebook.\n",
        "import pandas as pd\n",
        "import numpy as np\n",
        "import requests\n",
        "import json\n",
        "import datetime as dt\n",
        "from datetime import datetime\n",
        "import matplotlib.pyplot as plt"
      ],
      "execution_count": 0,
      "outputs": []
    },
    {
      "cell_type": "code",
      "metadata": {
        "id": "JK-ljUuGpd2h",
        "colab_type": "code",
        "outputId": "43e13853-c279-4e04-b520-f0ccc6d1234e",
        "colab": {
          "base_uri": "https://localhost:8080/",
          "height": 223
        }
      },
      "source": [
        "''' COVID-19 : Countries Daily Summary Total'''\n",
        "# COVID-19 Data.\n",
        "'''https://covid19api.com/'''\n",
        "'''https://documenter.getpostman.com/view/10808728/SzS8rjbc?version=latest'''\n",
        "response = requests.get(\"https://api.covid19api.com/all\")\n",
        "# show the status code.\n",
        "print(response.status_code)\n",
        "covid_cs = response.json()\n",
        "covid_countriessummary = pd.json_normalize(covid_cs)\n",
        "# show the data frame shape.\n",
        "print(covid_countriessummary.shape)\n",
        "# show the data frame with headers.\n",
        "covid_countriessummary.head()"
      ],
      "execution_count": 2,
      "outputs": [
        {
          "output_type": "stream",
          "text": [
            "200\n",
            "(358530, 12)\n"
          ],
          "name": "stdout"
        },
        {
          "output_type": "execute_result",
          "data": {
            "text/html": [
              "<div>\n",
              "<style scoped>\n",
              "    .dataframe tbody tr th:only-of-type {\n",
              "        vertical-align: middle;\n",
              "    }\n",
              "\n",
              "    .dataframe tbody tr th {\n",
              "        vertical-align: top;\n",
              "    }\n",
              "\n",
              "    .dataframe thead th {\n",
              "        text-align: right;\n",
              "    }\n",
              "</style>\n",
              "<table border=\"1\" class=\"dataframe\">\n",
              "  <thead>\n",
              "    <tr style=\"text-align: right;\">\n",
              "      <th></th>\n",
              "      <th>Country</th>\n",
              "      <th>CountryCode</th>\n",
              "      <th>Province</th>\n",
              "      <th>City</th>\n",
              "      <th>CityCode</th>\n",
              "      <th>Lat</th>\n",
              "      <th>Lon</th>\n",
              "      <th>Confirmed</th>\n",
              "      <th>Deaths</th>\n",
              "      <th>Recovered</th>\n",
              "      <th>Active</th>\n",
              "      <th>Date</th>\n",
              "    </tr>\n",
              "  </thead>\n",
              "  <tbody>\n",
              "    <tr>\n",
              "      <th>0</th>\n",
              "      <td>Afghanistan</td>\n",
              "      <td>AF</td>\n",
              "      <td></td>\n",
              "      <td></td>\n",
              "      <td></td>\n",
              "      <td>33.94</td>\n",
              "      <td>67.71</td>\n",
              "      <td>0</td>\n",
              "      <td>0</td>\n",
              "      <td>0</td>\n",
              "      <td>0</td>\n",
              "      <td>2020-01-22T00:00:00Z</td>\n",
              "    </tr>\n",
              "    <tr>\n",
              "      <th>1</th>\n",
              "      <td>Afghanistan</td>\n",
              "      <td>AF</td>\n",
              "      <td></td>\n",
              "      <td></td>\n",
              "      <td></td>\n",
              "      <td>33.94</td>\n",
              "      <td>67.71</td>\n",
              "      <td>0</td>\n",
              "      <td>0</td>\n",
              "      <td>0</td>\n",
              "      <td>0</td>\n",
              "      <td>2020-01-23T00:00:00Z</td>\n",
              "    </tr>\n",
              "    <tr>\n",
              "      <th>2</th>\n",
              "      <td>Afghanistan</td>\n",
              "      <td>AF</td>\n",
              "      <td></td>\n",
              "      <td></td>\n",
              "      <td></td>\n",
              "      <td>33.94</td>\n",
              "      <td>67.71</td>\n",
              "      <td>0</td>\n",
              "      <td>0</td>\n",
              "      <td>0</td>\n",
              "      <td>0</td>\n",
              "      <td>2020-01-24T00:00:00Z</td>\n",
              "    </tr>\n",
              "    <tr>\n",
              "      <th>3</th>\n",
              "      <td>Afghanistan</td>\n",
              "      <td>AF</td>\n",
              "      <td></td>\n",
              "      <td></td>\n",
              "      <td></td>\n",
              "      <td>33.94</td>\n",
              "      <td>67.71</td>\n",
              "      <td>0</td>\n",
              "      <td>0</td>\n",
              "      <td>0</td>\n",
              "      <td>0</td>\n",
              "      <td>2020-01-25T00:00:00Z</td>\n",
              "    </tr>\n",
              "    <tr>\n",
              "      <th>4</th>\n",
              "      <td>Afghanistan</td>\n",
              "      <td>AF</td>\n",
              "      <td></td>\n",
              "      <td></td>\n",
              "      <td></td>\n",
              "      <td>33.94</td>\n",
              "      <td>67.71</td>\n",
              "      <td>0</td>\n",
              "      <td>0</td>\n",
              "      <td>0</td>\n",
              "      <td>0</td>\n",
              "      <td>2020-01-26T00:00:00Z</td>\n",
              "    </tr>\n",
              "  </tbody>\n",
              "</table>\n",
              "</div>"
            ],
            "text/plain": [
              "       Country CountryCode Province  ... Recovered Active                  Date\n",
              "0  Afghanistan          AF           ...         0      0  2020-01-22T00:00:00Z\n",
              "1  Afghanistan          AF           ...         0      0  2020-01-23T00:00:00Z\n",
              "2  Afghanistan          AF           ...         0      0  2020-01-24T00:00:00Z\n",
              "3  Afghanistan          AF           ...         0      0  2020-01-25T00:00:00Z\n",
              "4  Afghanistan          AF           ...         0      0  2020-01-26T00:00:00Z\n",
              "\n",
              "[5 rows x 12 columns]"
            ]
          },
          "metadata": {
            "tags": []
          },
          "execution_count": 2
        }
      ]
    },
    {
      "cell_type": "code",
      "metadata": {
        "id": "MhNnXUnuUArE",
        "colab_type": "code",
        "colab": {}
      },
      "source": [
        "# new data frame.\n",
        "df = covid_countriessummary.copy()"
      ],
      "execution_count": 0,
      "outputs": []
    },
    {
      "cell_type": "code",
      "metadata": {
        "id": "ACt0zJ7NT_5k",
        "colab_type": "code",
        "colab": {}
      },
      "source": [
        "# clean up the data.\n",
        "df['Date'] = df['Date'].str[:10]\n",
        "df = df.rename(columns={\"CountryCode\": \"Code\"})\n",
        "df = df.drop(columns=['Province', 'City', 'CityCode', 'Active', 'Lat', 'Lon'])\n",
        "df = df[['Date', 'Country', 'Code', 'Confirmed', 'Recovered', 'Deaths']]\n",
        "df = df.groupby(['Date', 'Country', 'Code']).agg({'Confirmed':'sum', 'Deaths': 'sum', 'Recovered': 'sum'}).reset_index()\n",
        "df = df[df['Country'] == 'United States of America']\n",
        "df['ConDiff'] = df['Confirmed'].diff()\n",
        "df['DeaDiff'] = df['Deaths'].diff()\n",
        "df['RecDiff'] = df['Recovered'].diff()\n",
        "df = df.fillna(0)\n",
        "df['ConDiff'] = df['ConDiff'].astype(int)\n",
        "df['DeaDiff'] = df['DeaDiff'].astype(int)\n",
        "df['RecDiff'] = df['RecDiff'].astype(int)"
      ],
      "execution_count": 0,
      "outputs": []
    },
    {
      "cell_type": "code",
      "metadata": {
        "id": "j3DS3MhKxmFo",
        "colab_type": "code",
        "outputId": "d4f2edaf-5f50-4cd4-d1af-b0764f09ca71",
        "colab": {
          "base_uri": "https://localhost:8080/",
          "height": 214
        }
      },
      "source": [
        "print(df.shape)\n",
        "df.head()"
      ],
      "execution_count": 11,
      "outputs": [
        {
          "output_type": "stream",
          "text": [
            "(86, 9)\n"
          ],
          "name": "stdout"
        },
        {
          "output_type": "execute_result",
          "data": {
            "text/html": [
              "<div>\n",
              "<style scoped>\n",
              "    .dataframe tbody tr th:only-of-type {\n",
              "        vertical-align: middle;\n",
              "    }\n",
              "\n",
              "    .dataframe tbody tr th {\n",
              "        vertical-align: top;\n",
              "    }\n",
              "\n",
              "    .dataframe thead th {\n",
              "        text-align: right;\n",
              "    }\n",
              "</style>\n",
              "<table border=\"1\" class=\"dataframe\">\n",
              "  <thead>\n",
              "    <tr style=\"text-align: right;\">\n",
              "      <th></th>\n",
              "      <th>Date</th>\n",
              "      <th>Country</th>\n",
              "      <th>Code</th>\n",
              "      <th>Confirmed</th>\n",
              "      <th>Deaths</th>\n",
              "      <th>Recovered</th>\n",
              "      <th>ConDiff</th>\n",
              "      <th>DeaDiff</th>\n",
              "      <th>RecDiff</th>\n",
              "    </tr>\n",
              "  </thead>\n",
              "  <tbody>\n",
              "    <tr>\n",
              "      <th>176</th>\n",
              "      <td>2020-01-22</td>\n",
              "      <td>United States of America</td>\n",
              "      <td>US</td>\n",
              "      <td>0</td>\n",
              "      <td>0</td>\n",
              "      <td>0</td>\n",
              "      <td>0</td>\n",
              "      <td>0</td>\n",
              "      <td>0</td>\n",
              "    </tr>\n",
              "    <tr>\n",
              "      <th>361</th>\n",
              "      <td>2020-01-23</td>\n",
              "      <td>United States of America</td>\n",
              "      <td>US</td>\n",
              "      <td>1</td>\n",
              "      <td>0</td>\n",
              "      <td>0</td>\n",
              "      <td>1</td>\n",
              "      <td>0</td>\n",
              "      <td>0</td>\n",
              "    </tr>\n",
              "    <tr>\n",
              "      <th>546</th>\n",
              "      <td>2020-01-24</td>\n",
              "      <td>United States of America</td>\n",
              "      <td>US</td>\n",
              "      <td>2</td>\n",
              "      <td>0</td>\n",
              "      <td>0</td>\n",
              "      <td>1</td>\n",
              "      <td>0</td>\n",
              "      <td>0</td>\n",
              "    </tr>\n",
              "    <tr>\n",
              "      <th>731</th>\n",
              "      <td>2020-01-25</td>\n",
              "      <td>United States of America</td>\n",
              "      <td>US</td>\n",
              "      <td>2</td>\n",
              "      <td>0</td>\n",
              "      <td>0</td>\n",
              "      <td>0</td>\n",
              "      <td>0</td>\n",
              "      <td>0</td>\n",
              "    </tr>\n",
              "    <tr>\n",
              "      <th>916</th>\n",
              "      <td>2020-01-26</td>\n",
              "      <td>United States of America</td>\n",
              "      <td>US</td>\n",
              "      <td>5</td>\n",
              "      <td>0</td>\n",
              "      <td>0</td>\n",
              "      <td>3</td>\n",
              "      <td>0</td>\n",
              "      <td>0</td>\n",
              "    </tr>\n",
              "  </tbody>\n",
              "</table>\n",
              "</div>"
            ],
            "text/plain": [
              "           Date                   Country Code  ...  ConDiff  DeaDiff  RecDiff\n",
              "176  2020-01-22  United States of America   US  ...        0        0        0\n",
              "361  2020-01-23  United States of America   US  ...        1        0        0\n",
              "546  2020-01-24  United States of America   US  ...        1        0        0\n",
              "731  2020-01-25  United States of America   US  ...        0        0        0\n",
              "916  2020-01-26  United States of America   US  ...        3        0        0\n",
              "\n",
              "[5 rows x 9 columns]"
            ]
          },
          "metadata": {
            "tags": []
          },
          "execution_count": 11
        }
      ]
    },
    {
      "cell_type": "code",
      "metadata": {
        "id": "L31FJK6CMB21",
        "colab_type": "code",
        "colab": {}
      },
      "source": [
        "!pip install chart_studio"
      ],
      "execution_count": 0,
      "outputs": []
    },
    {
      "cell_type": "code",
      "metadata": {
        "id": "VBKRGV3tTH9Q",
        "colab_type": "code",
        "colab": {}
      },
      "source": [
        "# set the browser for plotly.\n",
        "def configure_plotly_browser_state():\n",
        "  import IPython\n",
        "  display(IPython.core.display.HTML('''\n",
        "        <script src=\"/static/components/requirejs/require.js\"></script>\n",
        "        <script>\n",
        "          requirejs.config({\n",
        "            paths: {\n",
        "              base: '/static/base',\n",
        "              plotly: 'https://cdn.plot.ly/plotly-latest.min.js?noext',\n",
        "            },\n",
        "          });\n",
        "        </script>\n",
        "        '''))"
      ],
      "execution_count": 0,
      "outputs": []
    },
    {
      "cell_type": "code",
      "metadata": {
        "id": "Bw_uIMoJXefo",
        "colab_type": "code",
        "colab": {}
      },
      "source": [
        "# imports.\n",
        "import pandas as pd\n",
        "import plotly.graph_objs as go\n",
        "import chart_studio.plotly as py\n",
        "import plotly.offline\n",
        "from plotly.offline import iplot, init_notebook_mode"
      ],
      "execution_count": 0,
      "outputs": []
    },
    {
      "cell_type": "code",
      "metadata": {
        "id": "pkLxB1MQCOGd",
        "colab_type": "code",
        "colab": {}
      },
      "source": [
        "# plotly chart set up.\n",
        "configure_plotly_browser_state()\n",
        "init_notebook_mode(connected=True)\n",
        "trace0 = go.Scatter(\n",
        "    x=df['Date'],\n",
        "    y=list(df['ConDiff']),\n",
        "    name=\"Daily New Cases\",\n",
        "    mode='lines+markers',\n",
        "    line=dict(color=\"#5cb8e6\", width = 3, dash= 'dot')\n",
        ")\n",
        "trace1 = go.Scatter(\n",
        "    x=df['Date'],\n",
        "    y=list(df['DeaDiff']),\n",
        "    name=\"Daily Death Cases\",\n",
        "    mode='lines+markers',\n",
        "    line=dict(color=\"#eb4034\", width = 3, dash = 'dot'),\n",
        ")\n",
        "trace2 = go.Scatter(\n",
        "    x=df['Date'],\n",
        "    y=list(df['RecDiff']),\n",
        "    name=\"Daily Recovered Cases\",\n",
        "    mode='lines+markers',\n",
        "    line=dict(color=\"#42d65d\", width = 3, dash = 'dot')\n",
        ")\n",
        "data = [trace0,trace1,trace2]\n",
        "layout = go.Layout(title=\"USA COVID19 Numbers\",\n",
        "                  yaxis=dict(title=\"Daily Count\", \n",
        "                              zeroline=False),\n",
        "                  xaxis=dict(title=\"Date\",\n",
        "                              ),\n",
        "                  margin=dict(l=20, r=20, t=75, b=20),\n",
        "                  paper_bgcolor=\"whitesmoke\",\n",
        "                  autosize=False,\n",
        "                  width=1000,\n",
        "                  height=500                                    \n",
        "                )                            \n",
        "fig = go.Figure(data=data, layout=layout)\n",
        "fig.show()"
      ],
      "execution_count": 0,
      "outputs": []
    },
    {
      "cell_type": "markdown",
      "metadata": {
        "id": "z0QN075KcTQ0",
        "colab_type": "text"
      },
      "source": [
        "![PlotlyLineGraph](https://github.com/CVanchieri/CVanchieri.github.io/blob/master/img/PlotlyCOVID19LineGraphPost/5.png?raw=true)"
      ]
    }
  ]
}