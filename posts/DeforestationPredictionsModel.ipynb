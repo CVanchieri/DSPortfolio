{
  "nbformat": 4,
  "nbformat_minor": 0,
  "metadata": {
    "colab": {
      "name": "DeforestationPredictionsModel.ipynb",
      "provenance": [],
      "collapsed_sections": []
    },
    "kernelspec": {
      "display_name": "Python 3",
      "language": "python",
      "name": "python3"
    },
    "language_info": {
      "codemirror_mode": {
        "name": "ipython",
        "version": 3
      },
      "file_extension": ".py",
      "mimetype": "text/x-python",
      "name": "python",
      "nbconvert_exporter": "python",
      "pygments_lexer": "ipython3",
      "version": "3.7.4"
    }
  },
  "cells": [
    {
      "cell_type": "markdown",
      "metadata": {
        "id": "BLNOg_0jeuvb"
      },
      "source": [
        "## Installs."
      ]
    },
    {
      "cell_type": "code",
      "metadata": {
        "id": "gIRRcCm10tUt",
        "outputId": "44e5ae43-8b90-4976-9b5e-daea3fb05407",
        "colab": {
          "base_uri": "https://localhost:8080/",
          "height": 368
        }
      },
      "source": [
        "# installs.\n",
        "!pip install category_encoders"
      ],
      "execution_count": 1,
      "outputs": [
        {
          "output_type": "stream",
          "text": [
            "Collecting category_encoders\n",
            "\u001b[?25l  Downloading https://files.pythonhosted.org/packages/44/57/fcef41c248701ee62e8325026b90c432adea35555cbc870aff9cfba23727/category_encoders-2.2.2-py2.py3-none-any.whl (80kB)\n",
            "\r\u001b[K     |████                            | 10kB 9.6MB/s eta 0:00:01\r\u001b[K     |████████▏                       | 20kB 1.8MB/s eta 0:00:01\r\u001b[K     |████████████▏                   | 30kB 2.3MB/s eta 0:00:01\r\u001b[K     |████████████████▎               | 40kB 2.6MB/s eta 0:00:01\r\u001b[K     |████████████████████▎           | 51kB 2.1MB/s eta 0:00:01\r\u001b[K     |████████████████████████▍       | 61kB 2.3MB/s eta 0:00:01\r\u001b[K     |████████████████████████████▍   | 71kB 2.6MB/s eta 0:00:01\r\u001b[K     |████████████████████████████████| 81kB 2.2MB/s \n",
            "\u001b[?25hRequirement already satisfied: numpy>=1.14.0 in /usr/local/lib/python3.6/dist-packages (from category_encoders) (1.18.5)\n",
            "Requirement already satisfied: scikit-learn>=0.20.0 in /usr/local/lib/python3.6/dist-packages (from category_encoders) (0.22.2.post1)\n",
            "Requirement already satisfied: pandas>=0.21.1 in /usr/local/lib/python3.6/dist-packages (from category_encoders) (1.1.2)\n",
            "Requirement already satisfied: patsy>=0.5.1 in /usr/local/lib/python3.6/dist-packages (from category_encoders) (0.5.1)\n",
            "Requirement already satisfied: scipy>=1.0.0 in /usr/local/lib/python3.6/dist-packages (from category_encoders) (1.4.1)\n",
            "Requirement already satisfied: statsmodels>=0.9.0 in /usr/local/lib/python3.6/dist-packages (from category_encoders) (0.10.2)\n",
            "Requirement already satisfied: joblib>=0.11 in /usr/local/lib/python3.6/dist-packages (from scikit-learn>=0.20.0->category_encoders) (0.16.0)\n",
            "Requirement already satisfied: python-dateutil>=2.7.3 in /usr/local/lib/python3.6/dist-packages (from pandas>=0.21.1->category_encoders) (2.8.1)\n",
            "Requirement already satisfied: pytz>=2017.2 in /usr/local/lib/python3.6/dist-packages (from pandas>=0.21.1->category_encoders) (2018.9)\n",
            "Requirement already satisfied: six in /usr/local/lib/python3.6/dist-packages (from patsy>=0.5.1->category_encoders) (1.15.0)\n",
            "Installing collected packages: category-encoders\n",
            "Successfully installed category-encoders-2.2.2\n"
          ],
          "name": "stdout"
        }
      ]
    },
    {
      "cell_type": "markdown",
      "metadata": {
        "id": "TY-WU6IEewZb"
      },
      "source": [
        "## Imports."
      ]
    },
    {
      "cell_type": "code",
      "metadata": {
        "id": "3GAXqVpAyhqx",
        "outputId": "dda10ca8-981b-4cda-b94f-ff7d28966baa",
        "colab": {
          "base_uri": "https://localhost:8080/",
          "height": 82
        }
      },
      "source": [
        "# imports.\n",
        "import pandas as pd\n",
        "import numpy as np\n",
        "import requests\n",
        "import category_encoders as ce\n",
        "from sklearn.model_selection import train_test_split\n",
        "from sklearn.impute import SimpleImputer\n",
        "from sklearn.ensemble import RandomForestRegressor\n",
        "from sklearn.pipeline import make_pipeline\n",
        "pd.set_option('display.float_format', lambda x: '%.2f' % x)"
      ],
      "execution_count": 2,
      "outputs": [
        {
          "output_type": "stream",
          "text": [
            "/usr/local/lib/python3.6/dist-packages/statsmodels/tools/_testing.py:19: FutureWarning: pandas.util.testing is deprecated. Use the functions in the public API at pandas.testing instead.\n",
            "  import pandas.util.testing as tm\n"
          ],
          "name": "stderr"
        }
      ]
    },
    {
      "cell_type": "code",
      "metadata": {
        "id": "1pNHC2PHyhq1"
      },
      "source": [
        "# read in the cleaned original data.\n",
        "df_tr = pd.read_csv('https://raw.githubusercontent.com/CVanchieri/DataSets/master/WorldBankDeforestation/WorldBank_1990_2018.csv')"
      ],
      "execution_count": 3,
      "outputs": []
    },
    {
      "cell_type": "markdown",
      "metadata": {
        "id": "-xPRIj0dg_Nr"
      },
      "source": [
        "## Train Data."
      ]
    },
    {
      "cell_type": "code",
      "metadata": {
        "id": "LGDxSsI1dt9t",
        "outputId": "fefaa342-512a-4cd9-997a-45cb6ba1edfe",
        "colab": {
          "base_uri": "https://localhost:8080/",
          "height": 348
        }
      },
      "source": [
        "# Set train data.\n",
        "train = df_tr.copy()\n",
        "train = train.drop(columns=['Unnamed: 0'])\n",
        "train.head()"
      ],
      "execution_count": 4,
      "outputs": [
        {
          "output_type": "execute_result",
          "data": {
            "text/html": [
              "<div>\n",
              "<style scoped>\n",
              "    .dataframe tbody tr th:only-of-type {\n",
              "        vertical-align: middle;\n",
              "    }\n",
              "\n",
              "    .dataframe tbody tr th {\n",
              "        vertical-align: top;\n",
              "    }\n",
              "\n",
              "    .dataframe thead th {\n",
              "        text-align: right;\n",
              "    }\n",
              "</style>\n",
              "<table border=\"1\" class=\"dataframe\">\n",
              "  <thead>\n",
              "    <tr style=\"text-align: right;\">\n",
              "      <th></th>\n",
              "      <th>Country Code</th>\n",
              "      <th>Year</th>\n",
              "      <th>Agricultural land (sq. km)</th>\n",
              "      <th>GDP per capita growth (annual %)</th>\n",
              "      <th>Livestock production index (2004-2006 = 100)</th>\n",
              "      <th>Urban population</th>\n",
              "      <th>Crop production index (2004-2006 = 100)</th>\n",
              "      <th>Food production index (2004-2006 = 100)</th>\n",
              "      <th>Ores and metals exports (% of merchandise exports)</th>\n",
              "      <th>Electric power consumption (kWh per capita)</th>\n",
              "      <th>Forest area (% of land area)</th>\n",
              "    </tr>\n",
              "  </thead>\n",
              "  <tbody>\n",
              "    <tr>\n",
              "      <th>0</th>\n",
              "      <td>ABW</td>\n",
              "      <td>1990</td>\n",
              "      <td>20.00</td>\n",
              "      <td>2.09</td>\n",
              "      <td>67.49</td>\n",
              "      <td>31273.00</td>\n",
              "      <td>71.69</td>\n",
              "      <td>69.36</td>\n",
              "      <td>1.10</td>\n",
              "      <td>1237.52</td>\n",
              "      <td>2.33</td>\n",
              "    </tr>\n",
              "    <tr>\n",
              "      <th>1</th>\n",
              "      <td>AFG</td>\n",
              "      <td>1990</td>\n",
              "      <td>380400.00</td>\n",
              "      <td>1.32</td>\n",
              "      <td>70.69</td>\n",
              "      <td>2628554.00</td>\n",
              "      <td>66.64</td>\n",
              "      <td>68.12</td>\n",
              "      <td>2.75</td>\n",
              "      <td>1237.52</td>\n",
              "      <td>2.07</td>\n",
              "    </tr>\n",
              "    <tr>\n",
              "      <th>2</th>\n",
              "      <td>AGO</td>\n",
              "      <td>1990</td>\n",
              "      <td>574040.00</td>\n",
              "      <td>-6.66</td>\n",
              "      <td>70.11</td>\n",
              "      <td>4400964.00</td>\n",
              "      <td>29.25</td>\n",
              "      <td>37.91</td>\n",
              "      <td>6.22</td>\n",
              "      <td>53.17</td>\n",
              "      <td>48.91</td>\n",
              "    </tr>\n",
              "    <tr>\n",
              "      <th>3</th>\n",
              "      <td>ALB</td>\n",
              "      <td>1990</td>\n",
              "      <td>11210.00</td>\n",
              "      <td>-11.19</td>\n",
              "      <td>57.97</td>\n",
              "      <td>1197222.00</td>\n",
              "      <td>84.36</td>\n",
              "      <td>68.73</td>\n",
              "      <td>2.75</td>\n",
              "      <td>552.25</td>\n",
              "      <td>28.79</td>\n",
              "    </tr>\n",
              "    <tr>\n",
              "      <th>4</th>\n",
              "      <td>AND</td>\n",
              "      <td>1990</td>\n",
              "      <td>230.00</td>\n",
              "      <td>-0.14</td>\n",
              "      <td>67.49</td>\n",
              "      <td>51627.00</td>\n",
              "      <td>71.69</td>\n",
              "      <td>69.36</td>\n",
              "      <td>2.75</td>\n",
              "      <td>1237.52</td>\n",
              "      <td>34.04</td>\n",
              "    </tr>\n",
              "  </tbody>\n",
              "</table>\n",
              "</div>"
            ],
            "text/plain": [
              "  Country Code  ...  Forest area (% of land area)\n",
              "0          ABW  ...                          2.33\n",
              "1          AFG  ...                          2.07\n",
              "2          AGO  ...                         48.91\n",
              "3          ALB  ...                         28.79\n",
              "4          AND  ...                         34.04\n",
              "\n",
              "[5 rows x 11 columns]"
            ]
          },
          "metadata": {
            "tags": []
          },
          "execution_count": 4
        }
      ]
    },
    {
      "cell_type": "markdown",
      "metadata": {
        "id": "JaNiRujjd9d-"
      },
      "source": [
        "### Train/Val Split."
      ]
    },
    {
      "cell_type": "code",
      "metadata": {
        "id": "Vel161pTyhq8"
      },
      "source": [
        "# Set variables.\n",
        "features = train.columns[:-1].tolist()\n",
        "target = 'Forest area (% of land area)'\n",
        "\n",
        "X = train.drop(columns=target)\n",
        "y = train[target]"
      ],
      "execution_count": 5,
      "outputs": []
    },
    {
      "cell_type": "code",
      "metadata": {
        "id": "NRvZHjqnyhq_",
        "outputId": "de9532bd-e15f-4d2e-cf8d-bff30e14ad61",
        "colab": {
          "base_uri": "https://localhost:8080/",
          "height": 40
        }
      },
      "source": [
        "# Use train/val split on the data.\n",
        "X_train, X_test, y_train, y_test = train_test_split(X, y, test_size=0.2, random_state=1)\n",
        "X_train, X_val, y_train, y_val = train_test_split(X_train, y_train, test_size=0.2, random_state=1)\n",
        "X_train.shape, y_train.shape, X_val.shape, y_val.shape, X_test.shape, y_test.shape"
      ],
      "execution_count": 6,
      "outputs": [
        {
          "output_type": "execute_result",
          "data": {
            "text/plain": [
              "((4899, 10), (4899,), (1225, 10), (1225,), (1532, 10), (1532,))"
            ]
          },
          "metadata": {
            "tags": []
          },
          "execution_count": 6
        }
      ]
    },
    {
      "cell_type": "markdown",
      "metadata": {
        "id": "jvKucXAByhrF"
      },
      "source": [
        "### Random Forest Pipeline."
      ]
    },
    {
      "cell_type": "code",
      "metadata": {
        "id": "EKg-u45-hIGq",
        "outputId": "2815482a-948c-42a2-bcfd-0cc6be823e9b",
        "colab": {
          "base_uri": "https://localhost:8080/",
          "height": 126
        }
      },
      "source": [
        "# random forest pipeline.\n",
        "pipeline = make_pipeline(\n",
        "    ce.OneHotEncoder(), \n",
        "    RandomForestRegressor(n_estimators=100, random_state=42, n_jobs=-1)\n",
        ")\n",
        "pipeline.fit(X_train, y_train)\n",
        "\n",
        "print ('Training Accuracy', pipeline.score(X_train, y_train))\n",
        "print('Validation Accuracy', pipeline.score(X_val, y_val))\n",
        "y_pred = pipeline.predict(X_val)"
      ],
      "execution_count": 7,
      "outputs": [
        {
          "output_type": "stream",
          "text": [
            "/usr/local/lib/python3.6/dist-packages/category_encoders/utils.py:21: FutureWarning: is_categorical is deprecated and will be removed in a future version.  Use is_categorical_dtype instead\n",
            "  elif pd.api.types.is_categorical(cols):\n"
          ],
          "name": "stderr"
        },
        {
          "output_type": "stream",
          "text": [
            "Training Accuracy 0.9986954216649627\n",
            "Validation Accuracy 0.9929648523153405\n"
          ],
          "name": "stdout"
        }
      ]
    },
    {
      "cell_type": "markdown",
      "metadata": {
        "id": "eoE9HdaMhL5h"
      },
      "source": [
        "## Test Data."
      ]
    },
    {
      "cell_type": "code",
      "metadata": {
        "id": "MMm-ACULFDGo"
      },
      "source": [
        "# read in the cleaned predictions data frame.\n",
        "df_te = pd.read_csv('https://raw.githubusercontent.com/CVanchieri/DataSets/master/WorldBankDeforestation/WorldBank_2019_2120.csv')"
      ],
      "execution_count": 8,
      "outputs": []
    },
    {
      "cell_type": "code",
      "metadata": {
        "id": "XKNi3666d00m",
        "outputId": "61186874-90f7-412e-9e5e-73f2a0d20198",
        "colab": {
          "base_uri": "https://localhost:8080/",
          "height": 348
        }
      },
      "source": [
        "# Set the test data.\n",
        "test = df_te.copy()\n",
        "test = test.drop(columns=['Unnamed: 0'])\n",
        "test.head()"
      ],
      "execution_count": 9,
      "outputs": [
        {
          "output_type": "execute_result",
          "data": {
            "text/html": [
              "<div>\n",
              "<style scoped>\n",
              "    .dataframe tbody tr th:only-of-type {\n",
              "        vertical-align: middle;\n",
              "    }\n",
              "\n",
              "    .dataframe tbody tr th {\n",
              "        vertical-align: top;\n",
              "    }\n",
              "\n",
              "    .dataframe thead th {\n",
              "        text-align: right;\n",
              "    }\n",
              "</style>\n",
              "<table border=\"1\" class=\"dataframe\">\n",
              "  <thead>\n",
              "    <tr style=\"text-align: right;\">\n",
              "      <th></th>\n",
              "      <th>Country Code</th>\n",
              "      <th>Year</th>\n",
              "      <th>Agricultural land (sq. km)</th>\n",
              "      <th>GDP per capita growth (annual %)</th>\n",
              "      <th>Livestock production index (2004-2006 = 100)</th>\n",
              "      <th>Urban population</th>\n",
              "      <th>Crop production index (2004-2006 = 100)</th>\n",
              "      <th>Food production index (2004-2006 = 100)</th>\n",
              "      <th>Ores and metals exports (% of merchandise exports)</th>\n",
              "      <th>Electric power consumption (kWh per capita)</th>\n",
              "      <th>Forest area (% of land area)</th>\n",
              "    </tr>\n",
              "  </thead>\n",
              "  <tbody>\n",
              "    <tr>\n",
              "      <th>0</th>\n",
              "      <td>ABW</td>\n",
              "      <td>2019</td>\n",
              "      <td>20.00</td>\n",
              "      <td>-0.75</td>\n",
              "      <td>123.79</td>\n",
              "      <td>48057.97</td>\n",
              "      <td>123.08</td>\n",
              "      <td>125.53</td>\n",
              "      <td>6.37</td>\n",
              "      <td>2712.14</td>\n",
              "      <td>2.33</td>\n",
              "    </tr>\n",
              "    <tr>\n",
              "      <th>1</th>\n",
              "      <td>AFG</td>\n",
              "      <td>2019</td>\n",
              "      <td>378959.53</td>\n",
              "      <td>3.31</td>\n",
              "      <td>108.26</td>\n",
              "      <td>9262840.16</td>\n",
              "      <td>148.75</td>\n",
              "      <td>130.08</td>\n",
              "      <td>2.05</td>\n",
              "      <td>2712.14</td>\n",
              "      <td>2.07</td>\n",
              "    </tr>\n",
              "    <tr>\n",
              "      <th>2</th>\n",
              "      <td>AGO</td>\n",
              "      <td>2019</td>\n",
              "      <td>591467.93</td>\n",
              "      <td>2.39</td>\n",
              "      <td>146.48</td>\n",
              "      <td>19384636.41</td>\n",
              "      <td>226.44</td>\n",
              "      <td>208.66</td>\n",
              "      <td>2.28</td>\n",
              "      <td>308.43</td>\n",
              "      <td>46.05</td>\n",
              "    </tr>\n",
              "    <tr>\n",
              "      <th>3</th>\n",
              "      <td>ALB</td>\n",
              "      <td>2019</td>\n",
              "      <td>11904.29</td>\n",
              "      <td>6.65</td>\n",
              "      <td>120.60</td>\n",
              "      <td>1709176.32</td>\n",
              "      <td>178.59</td>\n",
              "      <td>151.17</td>\n",
              "      <td>12.88</td>\n",
              "      <td>2608.40</td>\n",
              "      <td>28.14</td>\n",
              "    </tr>\n",
              "    <tr>\n",
              "      <th>4</th>\n",
              "      <td>AND</td>\n",
              "      <td>2019</td>\n",
              "      <td>184.99</td>\n",
              "      <td>0.81</td>\n",
              "      <td>123.79</td>\n",
              "      <td>75938.01</td>\n",
              "      <td>123.08</td>\n",
              "      <td>125.53</td>\n",
              "      <td>3.59</td>\n",
              "      <td>2712.14</td>\n",
              "      <td>34.04</td>\n",
              "    </tr>\n",
              "  </tbody>\n",
              "</table>\n",
              "</div>"
            ],
            "text/plain": [
              "  Country Code  ...  Forest area (% of land area)\n",
              "0          ABW  ...                          2.33\n",
              "1          AFG  ...                          2.07\n",
              "2          AGO  ...                         46.05\n",
              "3          ALB  ...                         28.14\n",
              "4          AND  ...                         34.04\n",
              "\n",
              "[5 rows x 11 columns]"
            ]
          },
          "metadata": {
            "tags": []
          },
          "execution_count": 9
        }
      ]
    },
    {
      "cell_type": "markdown",
      "metadata": {
        "id": "PP8uVy07eIWz"
      },
      "source": [
        "### Random Forest Pipeline."
      ]
    },
    {
      "cell_type": "code",
      "metadata": {
        "id": "-MEu8ALthPFS",
        "outputId": "815493dd-0b2e-4423-e4d1-752be16f9ff5",
        "colab": {
          "base_uri": "https://localhost:8080/",
          "height": 148
        }
      },
      "source": [
        "# set the variables.\n",
        "features = test.columns[:-1].tolist()\n",
        "target = 'Forest area (% of land area)'\n",
        "\n",
        "X_test = test[features]\n",
        "y_test = test[target]\n",
        "\n",
        "pipeline.fit(X_test, y_test)\n",
        "y_pred = pipeline.predict(X_test)\n",
        "\n",
        "print ('Test Accuracy', pipeline.score(X_test, y_test))\n",
        "y_pred"
      ],
      "execution_count": 10,
      "outputs": [
        {
          "output_type": "stream",
          "text": [
            "/usr/local/lib/python3.6/dist-packages/category_encoders/utils.py:21: FutureWarning: is_categorical is deprecated and will be removed in a future version.  Use is_categorical_dtype instead\n",
            "  elif pd.api.types.is_categorical(cols):\n"
          ],
          "name": "stderr"
        },
        {
          "output_type": "stream",
          "text": [
            "Test Accuracy 0.9998526451418099\n"
          ],
          "name": "stdout"
        },
        {
          "output_type": "execute_result",
          "data": {
            "text/plain": [
              "array([  2.4116666 ,   2.2803321 ,  44.96266689, ...,   7.47180292,\n",
              "        42.56087829, -49.36206047])"
            ]
          },
          "metadata": {
            "tags": []
          },
          "execution_count": 10
        }
      ]
    },
    {
      "cell_type": "code",
      "metadata": {
        "id": "wIoIXY_mWaDh"
      },
      "source": [
        "# Set the predictions on the data frame.\n",
        "test['Forest area (% of land area)'] = pd.Series(y_pred)\n",
        "# Merge the train and test data for one dataframe.\n",
        "predictions = pd.concat([train, test])"
      ],
      "execution_count": 11,
      "outputs": []
    },
    {
      "cell_type": "code",
      "metadata": {
        "id": "RWeQfBAdWbiJ",
        "outputId": "a10b7368-1b73-4740-e4b0-91b857244a64",
        "colab": {
          "base_uri": "https://localhost:8080/",
          "height": 370
        }
      },
      "source": [
        "# show the data frame shape.\n",
        "print(predictions.shape)\n",
        "# show the data frame with headers.\n",
        "predictions.head()"
      ],
      "execution_count": 12,
      "outputs": [
        {
          "output_type": "stream",
          "text": [
            "(34584, 11)\n"
          ],
          "name": "stdout"
        },
        {
          "output_type": "execute_result",
          "data": {
            "text/html": [
              "<div>\n",
              "<style scoped>\n",
              "    .dataframe tbody tr th:only-of-type {\n",
              "        vertical-align: middle;\n",
              "    }\n",
              "\n",
              "    .dataframe tbody tr th {\n",
              "        vertical-align: top;\n",
              "    }\n",
              "\n",
              "    .dataframe thead th {\n",
              "        text-align: right;\n",
              "    }\n",
              "</style>\n",
              "<table border=\"1\" class=\"dataframe\">\n",
              "  <thead>\n",
              "    <tr style=\"text-align: right;\">\n",
              "      <th></th>\n",
              "      <th>Country Code</th>\n",
              "      <th>Year</th>\n",
              "      <th>Agricultural land (sq. km)</th>\n",
              "      <th>GDP per capita growth (annual %)</th>\n",
              "      <th>Livestock production index (2004-2006 = 100)</th>\n",
              "      <th>Urban population</th>\n",
              "      <th>Crop production index (2004-2006 = 100)</th>\n",
              "      <th>Food production index (2004-2006 = 100)</th>\n",
              "      <th>Ores and metals exports (% of merchandise exports)</th>\n",
              "      <th>Electric power consumption (kWh per capita)</th>\n",
              "      <th>Forest area (% of land area)</th>\n",
              "    </tr>\n",
              "  </thead>\n",
              "  <tbody>\n",
              "    <tr>\n",
              "      <th>0</th>\n",
              "      <td>ABW</td>\n",
              "      <td>1990</td>\n",
              "      <td>20.00</td>\n",
              "      <td>2.09</td>\n",
              "      <td>67.49</td>\n",
              "      <td>31273.00</td>\n",
              "      <td>71.69</td>\n",
              "      <td>69.36</td>\n",
              "      <td>1.10</td>\n",
              "      <td>1237.52</td>\n",
              "      <td>2.33</td>\n",
              "    </tr>\n",
              "    <tr>\n",
              "      <th>1</th>\n",
              "      <td>AFG</td>\n",
              "      <td>1990</td>\n",
              "      <td>380400.00</td>\n",
              "      <td>1.32</td>\n",
              "      <td>70.69</td>\n",
              "      <td>2628554.00</td>\n",
              "      <td>66.64</td>\n",
              "      <td>68.12</td>\n",
              "      <td>2.75</td>\n",
              "      <td>1237.52</td>\n",
              "      <td>2.07</td>\n",
              "    </tr>\n",
              "    <tr>\n",
              "      <th>2</th>\n",
              "      <td>AGO</td>\n",
              "      <td>1990</td>\n",
              "      <td>574040.00</td>\n",
              "      <td>-6.66</td>\n",
              "      <td>70.11</td>\n",
              "      <td>4400964.00</td>\n",
              "      <td>29.25</td>\n",
              "      <td>37.91</td>\n",
              "      <td>6.22</td>\n",
              "      <td>53.17</td>\n",
              "      <td>48.91</td>\n",
              "    </tr>\n",
              "    <tr>\n",
              "      <th>3</th>\n",
              "      <td>ALB</td>\n",
              "      <td>1990</td>\n",
              "      <td>11210.00</td>\n",
              "      <td>-11.19</td>\n",
              "      <td>57.97</td>\n",
              "      <td>1197222.00</td>\n",
              "      <td>84.36</td>\n",
              "      <td>68.73</td>\n",
              "      <td>2.75</td>\n",
              "      <td>552.25</td>\n",
              "      <td>28.79</td>\n",
              "    </tr>\n",
              "    <tr>\n",
              "      <th>4</th>\n",
              "      <td>AND</td>\n",
              "      <td>1990</td>\n",
              "      <td>230.00</td>\n",
              "      <td>-0.14</td>\n",
              "      <td>67.49</td>\n",
              "      <td>51627.00</td>\n",
              "      <td>71.69</td>\n",
              "      <td>69.36</td>\n",
              "      <td>2.75</td>\n",
              "      <td>1237.52</td>\n",
              "      <td>34.04</td>\n",
              "    </tr>\n",
              "  </tbody>\n",
              "</table>\n",
              "</div>"
            ],
            "text/plain": [
              "  Country Code  ...  Forest area (% of land area)\n",
              "0          ABW  ...                          2.33\n",
              "1          AFG  ...                          2.07\n",
              "2          AGO  ...                         48.91\n",
              "3          ALB  ...                         28.79\n",
              "4          AND  ...                         34.04\n",
              "\n",
              "[5 rows x 11 columns]"
            ]
          },
          "metadata": {
            "tags": []
          },
          "execution_count": 12
        }
      ]
    },
    {
      "cell_type": "code",
      "metadata": {
        "id": "po_LDcKSWVEA"
      },
      "source": [
        "# Function to add in some country names.\n",
        "def label_race (row):\n",
        "   if row['Country Code'] == 'USA' :\n",
        "      return 'United States of America'\n",
        "   if row['Country Code'] == 'CHA' :\n",
        "      return 'China'\n",
        "   if row['Country Code'] == 'CAN' :\n",
        "      return 'Canada'\n",
        "   if row['Country Code'] == 'AUS' :\n",
        "      return 'Australia'\n",
        "   if row['Country Code'] == 'ARG' :\n",
        "      return 'Argentina'\n",
        "   if row['Country Code'] == 'BRA':\n",
        "      return 'Brazil'\n",
        "   if row['Country Code'] == 'BEL':\n",
        "      return 'Belgium'   \n",
        "   if row['Country Code'] == 'CHL':\n",
        "      return 'Chile'\n",
        "   if row['Country Code'] == 'DEU' :\n",
        "      return 'Germany'\n",
        "   if row['Country Code'] == 'ZAF' :\n",
        "      return 'South Africa'\n",
        "   if row['Country Code']  == 'NZL':\n",
        "      return 'New Zealnd'\n",
        "   if row['Country Code'] == 'GBR':\n",
        "      return 'United Kingdom'\n",
        "   if row['Country Code'] == 'IND' :\n",
        "      return 'India'\n",
        "   if row['Country Code'] == 'KHM' :\n",
        "      return 'Cambodia'\n",
        "   if row['Country Code']  == 'THA':\n",
        "      return 'Thailand'\n",
        "   if row['Country Code'] == 'VNM':\n",
        "      return 'Vietnam'\n",
        "   if row['Country Code'] == 'HIC' :\n",
        "      return 'High Income Countries'\n",
        "   if row['Country Code']  == 'MIC':\n",
        "      return 'Middle Income Countries'\n",
        "   if row['Country Code'] == 'LIC':\n",
        "      return 'Low Income Countries'\n",
        "   return 'Other'"
      ],
      "execution_count": 13,
      "outputs": []
    },
    {
      "cell_type": "code",
      "metadata": {
        "id": "2Fz6Mqp9dp_w"
      },
      "source": [
        "# make a copy of the dataframe.\n",
        "final_c = predictions.copy()"
      ],
      "execution_count": 14,
      "outputs": []
    },
    {
      "cell_type": "code",
      "metadata": {
        "id": "yXgGDi6iYPxj"
      },
      "source": [
        "# Apply the function to the datarame.\n",
        "final_c.apply (lambda row: label_race(row), axis=1)\n",
        "final_c['Country Name'] = final_c.apply (lambda row: label_race(row), axis=1)\n",
        "final_c = final_c[['Country Name',\n",
        "                                  'Country Code',\n",
        "                                  'Year',\n",
        "                                  'Agricultural land (sq. km)',\n",
        "                                  'Electric power consumption (kWh per capita)',\n",
        "                                  'GDP per capita growth (annual %)',\n",
        "                                  'Livestock production index (2004-2006 = 100)',\n",
        "                                  'Ores and metals exports (% of merchandise exports)',\n",
        "                                  'Urban population',\n",
        "                                  'Crop production index (2004-2006 = 100)',\n",
        "                                  'Food production index (2004-2006 = 100)',\n",
        "                                  'Forest area (% of land area)']]"
      ],
      "execution_count": 15,
      "outputs": []
    },
    {
      "cell_type": "code",
      "metadata": {
        "id": "HQYXTFPzBZDc"
      },
      "source": [
        "# Clean the dataframe.\n",
        "final_c = final_c[final_c['Country Name'] != 'Other']\n",
        "final_c = final_c[['Country Name',\n",
        " 'Country Code',\n",
        " 'Year',\n",
        " 'Agricultural land (sq. km)',\n",
        " 'Electric power consumption (kWh per capita)',\n",
        " 'GDP per capita growth (annual %)',\n",
        " 'Livestock production index (2004-2006 = 100)',\n",
        " 'Ores and metals exports (% of merchandise exports)',\n",
        " 'Urban population',\n",
        " 'Crop production index (2004-2006 = 100)',\n",
        " 'Food production index (2004-2006 = 100)',\n",
        " 'Forest area (% of land area)']]\n",
        "final_c['Forest area (% of land area)'] = final_c['Forest area (% of land area)'].clip(lower=0)"
      ],
      "execution_count": 16,
      "outputs": []
    },
    {
      "cell_type": "code",
      "metadata": {
        "id": "_6Oh7Z9PYqsk",
        "outputId": "e9ceb717-76ca-46cf-98aa-c13b0b288a36",
        "colab": {
          "base_uri": "https://localhost:8080/",
          "height": 500
        }
      },
      "source": [
        "print(final_c.shape)\n",
        "final_c.tail()"
      ],
      "execution_count": 17,
      "outputs": [
        {
          "output_type": "stream",
          "text": [
            "(2358, 12)\n"
          ],
          "name": "stdout"
        },
        {
          "output_type": "execute_result",
          "data": {
            "text/html": [
              "<div>\n",
              "<style scoped>\n",
              "    .dataframe tbody tr th:only-of-type {\n",
              "        vertical-align: middle;\n",
              "    }\n",
              "\n",
              "    .dataframe tbody tr th {\n",
              "        vertical-align: top;\n",
              "    }\n",
              "\n",
              "    .dataframe thead th {\n",
              "        text-align: right;\n",
              "    }\n",
              "</style>\n",
              "<table border=\"1\" class=\"dataframe\">\n",
              "  <thead>\n",
              "    <tr style=\"text-align: right;\">\n",
              "      <th></th>\n",
              "      <th>Country Name</th>\n",
              "      <th>Country Code</th>\n",
              "      <th>Year</th>\n",
              "      <th>Agricultural land (sq. km)</th>\n",
              "      <th>Electric power consumption (kWh per capita)</th>\n",
              "      <th>GDP per capita growth (annual %)</th>\n",
              "      <th>Livestock production index (2004-2006 = 100)</th>\n",
              "      <th>Ores and metals exports (% of merchandise exports)</th>\n",
              "      <th>Urban population</th>\n",
              "      <th>Crop production index (2004-2006 = 100)</th>\n",
              "      <th>Food production index (2004-2006 = 100)</th>\n",
              "      <th>Forest area (% of land area)</th>\n",
              "    </tr>\n",
              "  </thead>\n",
              "  <tbody>\n",
              "    <tr>\n",
              "      <th>26842</th>\n",
              "      <td>New Zealnd</td>\n",
              "      <td>NZL</td>\n",
              "      <td>2120</td>\n",
              "      <td>-135584.43</td>\n",
              "      <td>10434.64</td>\n",
              "      <td>2.23</td>\n",
              "      <td>300.90</td>\n",
              "      <td>-3.78</td>\n",
              "      <td>8517411.94</td>\n",
              "      <td>299.57</td>\n",
              "      <td>322.48</td>\n",
              "      <td>44.84</td>\n",
              "    </tr>\n",
              "    <tr>\n",
              "      <th>26895</th>\n",
              "      <td>Thailand</td>\n",
              "      <td>THA</td>\n",
              "      <td>2120</td>\n",
              "      <td>252837.49</td>\n",
              "      <td>9786.31</td>\n",
              "      <td>-9.02</td>\n",
              "      <td>310.28</td>\n",
              "      <td>4.64</td>\n",
              "      <td>107322891.44</td>\n",
              "      <td>375.28</td>\n",
              "      <td>334.88</td>\n",
              "      <td>44.16</td>\n",
              "    </tr>\n",
              "    <tr>\n",
              "      <th>26913</th>\n",
              "      <td>United States of America</td>\n",
              "      <td>USA</td>\n",
              "      <td>2120</td>\n",
              "      <td>3297611.47</td>\n",
              "      <td>16616.36</td>\n",
              "      <td>-0.82</td>\n",
              "      <td>226.75</td>\n",
              "      <td>8.22</td>\n",
              "      <td>563473525.03</td>\n",
              "      <td>265.25</td>\n",
              "      <td>283.85</td>\n",
              "      <td>38.27</td>\n",
              "    </tr>\n",
              "    <tr>\n",
              "      <th>26919</th>\n",
              "      <td>Vietnam</td>\n",
              "      <td>VNM</td>\n",
              "      <td>2120</td>\n",
              "      <td>340196.12</td>\n",
              "      <td>7256.84</td>\n",
              "      <td>3.86</td>\n",
              "      <td>670.84</td>\n",
              "      <td>-2.85</td>\n",
              "      <td>106616457.51</td>\n",
              "      <td>512.49</td>\n",
              "      <td>513.35</td>\n",
              "      <td>127.97</td>\n",
              "    </tr>\n",
              "    <tr>\n",
              "      <th>26925</th>\n",
              "      <td>South Africa</td>\n",
              "      <td>ZAF</td>\n",
              "      <td>2120</td>\n",
              "      <td>960131.69</td>\n",
              "      <td>4663.79</td>\n",
              "      <td>7.44</td>\n",
              "      <td>391.42</td>\n",
              "      <td>130.12</td>\n",
              "      <td>105234320.88</td>\n",
              "      <td>246.60</td>\n",
              "      <td>323.85</td>\n",
              "      <td>7.47</td>\n",
              "    </tr>\n",
              "  </tbody>\n",
              "</table>\n",
              "</div>"
            ],
            "text/plain": [
              "                   Country Name  ... Forest area (% of land area)\n",
              "26842                New Zealnd  ...                        44.84\n",
              "26895                  Thailand  ...                        44.16\n",
              "26913  United States of America  ...                        38.27\n",
              "26919                   Vietnam  ...                       127.97\n",
              "26925              South Africa  ...                         7.47\n",
              "\n",
              "[5 rows x 12 columns]"
            ]
          },
          "metadata": {
            "tags": []
          },
          "execution_count": 17
        }
      ]
    },
    {
      "cell_type": "code",
      "metadata": {
        "id": "1vMB_Z14lrCF"
      },
      "source": [
        "c = final_c[final_c['Country Name'] == 'Cambodia']"
      ],
      "execution_count": 18,
      "outputs": []
    },
    {
      "cell_type": "code",
      "metadata": {
        "id": "U53Eobmilxe9",
        "outputId": "a1ee8d97-66f3-4255-fd84-4c122b477e09",
        "colab": {
          "base_uri": "https://localhost:8080/",
          "height": 390
        }
      },
      "source": [
        "c.tail()"
      ],
      "execution_count": 19,
      "outputs": [
        {
          "output_type": "execute_result",
          "data": {
            "text/html": [
              "<div>\n",
              "<style scoped>\n",
              "    .dataframe tbody tr th:only-of-type {\n",
              "        vertical-align: middle;\n",
              "    }\n",
              "\n",
              "    .dataframe tbody tr th {\n",
              "        vertical-align: top;\n",
              "    }\n",
              "\n",
              "    .dataframe thead th {\n",
              "        text-align: right;\n",
              "    }\n",
              "</style>\n",
              "<table border=\"1\" class=\"dataframe\">\n",
              "  <thead>\n",
              "    <tr style=\"text-align: right;\">\n",
              "      <th></th>\n",
              "      <th>Country Name</th>\n",
              "      <th>Country Code</th>\n",
              "      <th>Year</th>\n",
              "      <th>Agricultural land (sq. km)</th>\n",
              "      <th>Electric power consumption (kWh per capita)</th>\n",
              "      <th>GDP per capita growth (annual %)</th>\n",
              "      <th>Livestock production index (2004-2006 = 100)</th>\n",
              "      <th>Ores and metals exports (% of merchandise exports)</th>\n",
              "      <th>Urban population</th>\n",
              "      <th>Crop production index (2004-2006 = 100)</th>\n",
              "      <th>Food production index (2004-2006 = 100)</th>\n",
              "      <th>Forest area (% of land area)</th>\n",
              "    </tr>\n",
              "  </thead>\n",
              "  <tbody>\n",
              "    <tr>\n",
              "      <th>25729</th>\n",
              "      <td>Cambodia</td>\n",
              "      <td>KHM</td>\n",
              "      <td>2116</td>\n",
              "      <td>100646.21</td>\n",
              "      <td>-2675.94</td>\n",
              "      <td>41.02</td>\n",
              "      <td>214.12</td>\n",
              "      <td>-5.89</td>\n",
              "      <td>11427803.95</td>\n",
              "      <td>903.85</td>\n",
              "      <td>772.92</td>\n",
              "      <td>0.00</td>\n",
              "    </tr>\n",
              "    <tr>\n",
              "      <th>25993</th>\n",
              "      <td>Cambodia</td>\n",
              "      <td>KHM</td>\n",
              "      <td>2117</td>\n",
              "      <td>101093.97</td>\n",
              "      <td>-2702.71</td>\n",
              "      <td>41.35</td>\n",
              "      <td>215.26</td>\n",
              "      <td>-5.96</td>\n",
              "      <td>11507286.54</td>\n",
              "      <td>910.90</td>\n",
              "      <td>778.86</td>\n",
              "      <td>0.00</td>\n",
              "    </tr>\n",
              "    <tr>\n",
              "      <th>26257</th>\n",
              "      <td>Cambodia</td>\n",
              "      <td>KHM</td>\n",
              "      <td>2118</td>\n",
              "      <td>101541.72</td>\n",
              "      <td>-2729.48</td>\n",
              "      <td>41.69</td>\n",
              "      <td>216.41</td>\n",
              "      <td>-6.02</td>\n",
              "      <td>11586769.12</td>\n",
              "      <td>917.95</td>\n",
              "      <td>784.79</td>\n",
              "      <td>0.00</td>\n",
              "    </tr>\n",
              "    <tr>\n",
              "      <th>26521</th>\n",
              "      <td>Cambodia</td>\n",
              "      <td>KHM</td>\n",
              "      <td>2119</td>\n",
              "      <td>101989.48</td>\n",
              "      <td>-2756.24</td>\n",
              "      <td>42.02</td>\n",
              "      <td>217.56</td>\n",
              "      <td>-6.09</td>\n",
              "      <td>11666251.70</td>\n",
              "      <td>924.99</td>\n",
              "      <td>790.73</td>\n",
              "      <td>0.00</td>\n",
              "    </tr>\n",
              "    <tr>\n",
              "      <th>26785</th>\n",
              "      <td>Cambodia</td>\n",
              "      <td>KHM</td>\n",
              "      <td>2120</td>\n",
              "      <td>102437.24</td>\n",
              "      <td>-2783.01</td>\n",
              "      <td>42.36</td>\n",
              "      <td>218.71</td>\n",
              "      <td>-6.15</td>\n",
              "      <td>11745734.29</td>\n",
              "      <td>932.04</td>\n",
              "      <td>796.66</td>\n",
              "      <td>0.00</td>\n",
              "    </tr>\n",
              "  </tbody>\n",
              "</table>\n",
              "</div>"
            ],
            "text/plain": [
              "      Country Name  ... Forest area (% of land area)\n",
              "25729     Cambodia  ...                         0.00\n",
              "25993     Cambodia  ...                         0.00\n",
              "26257     Cambodia  ...                         0.00\n",
              "26521     Cambodia  ...                         0.00\n",
              "26785     Cambodia  ...                         0.00\n",
              "\n",
              "[5 rows x 12 columns]"
            ]
          },
          "metadata": {
            "tags": []
          },
          "execution_count": 19
        }
      ]
    },
    {
      "cell_type": "code",
      "metadata": {
        "id": "07O-adCN1eGZ",
        "outputId": "8d40786d-428d-40c7-fc0d-90589215da66",
        "colab": {
          "base_uri": "https://localhost:8080/",
          "height": 64
        }
      },
      "source": [
        "\"\"\"# Download predictions result as a csv.\n",
        "from google.colab import files \n",
        "final_c.to_csv('Deforestation_Predictions.csv', index=False)\n",
        "files.download('Deforestation_Predictions.csv')\"\"\""
      ],
      "execution_count": 20,
      "outputs": [
        {
          "output_type": "execute_result",
          "data": {
            "application/vnd.google.colaboratory.intrinsic+json": {
              "type": "string"
            },
            "text/plain": [
              "\"# Download predictions result as a csv.\\nfrom google.colab import files \\nfinal_c.to_csv('Deforestation_Predictions.csv', index=False)\\nfiles.download('Deforestation_Predictions.csv')\""
            ]
          },
          "metadata": {
            "tags": []
          },
          "execution_count": 20
        }
      ]
    },
    {
      "cell_type": "code",
      "metadata": {
        "id": "jL9Yd49CDjmm",
        "outputId": "98946768-ec29-4d87-ad82-ba4561d000b6",
        "colab": {
          "base_uri": "https://localhost:8080/",
          "height": 64
        }
      },
      "source": [
        "\"\"\"# Download predictions result as a json.\n",
        "final_c.to_json('Deforestation_Predictions.json', orient= 'records')\n",
        "files.download('Deforestation_Predictions.json')\"\"\""
      ],
      "execution_count": 21,
      "outputs": [
        {
          "output_type": "execute_result",
          "data": {
            "application/vnd.google.colaboratory.intrinsic+json": {
              "type": "string"
            },
            "text/plain": [
              "\"# Download predictions result as a json.\\nfinal_c.to_json('Deforestation_Predictions.json', orient= 'records')\\nfiles.download('Deforestation_Predictions.json')\""
            ]
          },
          "metadata": {
            "tags": []
          },
          "execution_count": 21
        }
      ]
    }
  ]
}